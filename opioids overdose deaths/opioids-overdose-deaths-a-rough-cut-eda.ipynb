{
 "cells": [
  {
   "cell_type": "markdown",
   "id": "dfce5317",
   "metadata": {
    "papermill": {
     "duration": 0.017923,
     "end_time": "2022-02-03T17:36:53.688593",
     "exception": false,
     "start_time": "2022-02-03T17:36:53.670670",
     "status": "completed"
    },
    "tags": []
   },
   "source": [
    "![Chemical structure of morphine, the prototypical opioid](https://upload.wikimedia.org/wikipedia/commons/thumb/3/33/Morphin_-_Morphine.svg/282px-Morphin_-_Morphine.svg.png)\n",
    "\n",
    "\n",
    "Chemical structure of morphine, the prototypical opioid, from [Wikipedia](https://en.wikipedia.org/wiki/File:Morphin_-_Morphine.svg)"
   ]
  },
  {
   "cell_type": "markdown",
   "id": "30851f3a",
   "metadata": {
    "papermill": {
     "duration": 0.015722,
     "end_time": "2022-02-03T17:36:53.721243",
     "exception": false,
     "start_time": "2022-02-03T17:36:53.705521",
     "status": "completed"
    },
    "tags": []
   },
   "source": [
    "# INTRO\n",
    "\n",
    "This is my very first notebook on Kaggle. I started this only for one reason: to learn to explore datasets, to learn data science and to learn how to visualize using matplotlib. Also, the reason for chosing this specific dataset on opioid deaths: I like contributing to the planet and this world, so anything that helps the nature and the medicine, I am all in for it. Please forgive any mistakes for I am just a beginner. You are welcome to commment if you:\n",
    "\n",
    "* think any new explaoration or visualization that can give a better analysis of the dataset\n",
    "* find something that needs correction\n",
    "* can give ideas on how to make the notebook better\n",
    "\n",
    "CREDITS: <br/>\n",
    "https://www.kaggle.com/yamqwe/opioid-overdose-deathse/   <br/>\n",
    "https://data.world/health/opioid-overdose-deaths\n",
    "\n",
    "ORIGINAL LINKS: <br>\n",
    "https://www.kaggle.com/yamqwe/opioid-overdose-deathse <br/>\n",
    "https://www.kaggle.com/arnuld/opioids-overdose-deaths-a-rough-cut-eda"
   ]
  },
  {
   "cell_type": "markdown",
   "id": "a7e4c711",
   "metadata": {
    "papermill": {
     "duration": 0.015865,
     "end_time": "2022-02-03T17:36:53.753322",
     "exception": false,
     "start_time": "2022-02-03T17:36:53.737457",
     "status": "completed"
    },
    "tags": []
   },
   "source": [
    "# BEGIN\n",
    "\n",
    "Next cell of code was automatically added by Kaggle. Kaggle notebook automatically imports Pandas, NumPy and the dataset file path. If you want to run it in your local/cloud environment then remove this cell but copy the imports to next cell before doing that. Then, you can use the **requirements.txt** to create a virtual environment to run it."
   ]
  },
  {
   "cell_type": "code",
   "execution_count": 1,
   "id": "3e0185d8",
   "metadata": {
    "_cell_guid": "b1076dfc-b9ad-4769-8c92-a6c4dae69d19",
    "_uuid": "8f2839f25d086af736a60e9eeb907d3b93b6e0e5",
    "execution": {
     "iopub.execute_input": "2022-02-03T17:36:53.790451Z",
     "iopub.status.busy": "2022-02-03T17:36:53.789252Z",
     "iopub.status.idle": "2022-02-03T17:36:53.813875Z",
     "shell.execute_reply": "2022-02-03T17:36:53.814370Z"
    },
    "papermill": {
     "duration": 0.045154,
     "end_time": "2022-02-03T17:36:53.814692",
     "exception": false,
     "start_time": "2022-02-03T17:36:53.769538",
     "status": "completed"
    },
    "tags": []
   },
   "outputs": [
    {
     "name": "stdout",
     "output_type": "stream",
     "text": [
      "/kaggle/input/opioid-overdose-deathse/health-opioid-overdose-deaths/Multiple Cause of Death, 1999-2014.csv\n",
      "/kaggle/input/opioid-overdose-deathse/health-opioid-overdose-deaths/Multiple Cause of Death, 1999-2014 v1.1.csv\n"
     ]
    }
   ],
   "source": [
    "# This Python 3 environment comes with many helpful analytics libraries installed\n",
    "# It is defined by the kaggle/python Docker image: https://github.com/kaggle/docker-python\n",
    "# For example, here's several helpful packages to load\n",
    "\n",
    "import numpy as np # linear algebra\n",
    "import pandas as pd # data processing, CSV file I/O (e.g. pd.read_csv)\n",
    "\n",
    "# Input data files are available in the read-only \"../input/\" directory\n",
    "# For example, running this (by clicking run or pressing Shift+Enter) will list all files under the input directory\n",
    "\n",
    "import os\n",
    "for dirname, _, filenames in os.walk('/kaggle/input'):\n",
    "    for filename in filenames:\n",
    "        print(os.path.join(dirname, filename))\n",
    "\n",
    "# You can write up to 20GB to the current directory (/kaggle/working/) that gets preserved as output when you create a version using \"Save & Run All\" \n",
    "# You can also write temporary files to /kaggle/temp/, but they won't be saved outside of the current session"
   ]
  },
  {
   "cell_type": "code",
   "execution_count": 2,
   "id": "aafb41f1",
   "metadata": {
    "execution": {
     "iopub.execute_input": "2022-02-03T17:36:53.854167Z",
     "iopub.status.busy": "2022-02-03T17:36:53.853544Z",
     "iopub.status.idle": "2022-02-03T17:36:53.855399Z",
     "shell.execute_reply": "2022-02-03T17:36:53.855893Z"
    },
    "papermill": {
     "duration": 0.023794,
     "end_time": "2022-02-03T17:36:53.856074",
     "exception": false,
     "start_time": "2022-02-03T17:36:53.832280",
     "status": "completed"
    },
    "tags": []
   },
   "outputs": [],
   "source": [
    "import matplotlib.pyplot as plt\n",
    "from IPython.display import display\n"
   ]
  },
  {
   "cell_type": "markdown",
   "id": "d196e1d7",
   "metadata": {
    "papermill": {
     "duration": 0.016907,
     "end_time": "2022-02-03T17:36:53.890250",
     "exception": false,
     "start_time": "2022-02-03T17:36:53.873343",
     "status": "completed"
    },
    "tags": []
   },
   "source": [
    "### After exploring the dataset I came to know that it has words like 'Suppressed' and 'Unreliable' instead of just NaN. So, we gonna treat those as NaN and read the dataset accordingly "
   ]
  },
  {
   "cell_type": "code",
   "execution_count": 3,
   "id": "d57ac6a8",
   "metadata": {
    "execution": {
     "iopub.execute_input": "2022-02-03T17:36:53.927868Z",
     "iopub.status.busy": "2022-02-03T17:36:53.927196Z",
     "iopub.status.idle": "2022-02-03T17:36:53.966335Z",
     "shell.execute_reply": "2022-02-03T17:36:53.967084Z"
    },
    "papermill": {
     "duration": 0.06004,
     "end_time": "2022-02-03T17:36:53.967329",
     "exception": false,
     "start_time": "2022-02-03T17:36:53.907289",
     "status": "completed"
    },
    "tags": []
   },
   "outputs": [
    {
     "name": "stdout",
     "output_type": "stream",
     "text": [
      "<class 'pandas.core.frame.DataFrame'>\n",
      "RangeIndex: 816 entries, 0 to 815\n",
      "Data columns (total 8 columns):\n",
      " #   Column                                                           Non-Null Count  Dtype  \n",
      "---  ------                                                           --------------  -----  \n",
      " 0   State                                                            816 non-null    object \n",
      " 1   Year                                                             816 non-null    int64  \n",
      " 2   Deaths                                                           803 non-null    float64\n",
      " 3   Population                                                       816 non-null    int64  \n",
      " 4   Crude Rate                                                       772 non-null    float64\n",
      " 5   Crude Rate Lower 95% Confidence Interval                         803 non-null    float64\n",
      " 6   Crude Rate Upper 95% Confidence Interval                         803 non-null    float64\n",
      " 7   Prescriptions Dispensed by US Retailers in that year (millions)  816 non-null    int64  \n",
      "dtypes: float64(4), int64(3), object(1)\n",
      "memory usage: 51.1+ KB\n"
     ]
    }
   ],
   "source": [
    "file_path = '/kaggle/input/opioid-overdose-deathse/health-opioid-overdose-deaths/Multiple Cause of Death, 1999-2014 v1.1.csv'\n",
    "df = pd.read_csv(file_path, na_values=['Suppressed','Unreliable'])\n",
    "df.info()\n"
   ]
  },
  {
   "cell_type": "markdown",
   "id": "00d4bdd0",
   "metadata": {
    "papermill": {
     "duration": 0.017302,
     "end_time": "2022-02-03T17:36:54.003399",
     "exception": false,
     "start_time": "2022-02-03T17:36:53.986097",
     "status": "completed"
    },
    "tags": []
   },
   "source": [
    "## FIRST IMPRESSIONS OF DATA\n",
    "\n",
    "As you can see there are 8 columns but the **Non-Null Count** is not same for all of them. That means there are some values missing. So we will clean the dataset first. Instead of calling cleaning functions one by one, let's write a function to clean the dataset instead.  "
   ]
  },
  {
   "cell_type": "code",
   "execution_count": 4,
   "id": "e907240d",
   "metadata": {
    "execution": {
     "iopub.execute_input": "2022-02-03T17:36:54.047569Z",
     "iopub.status.busy": "2022-02-03T17:36:54.046625Z",
     "iopub.status.idle": "2022-02-03T17:36:54.048594Z",
     "shell.execute_reply": "2022-02-03T17:36:54.049089Z"
    },
    "papermill": {
     "duration": 0.028175,
     "end_time": "2022-02-03T17:36:54.049271",
     "exception": false,
     "start_time": "2022-02-03T17:36:54.021096",
     "status": "completed"
    },
    "tags": []
   },
   "outputs": [],
   "source": [
    "# The structure of this function is based on \"Avocado | EDA\" done by \"ks_lar_wtf\"\n",
    "# I have merely modified it to suit my needs\n",
    "\n",
    "# https://www.kaggle.com/kslarwtf\n",
    "# https://www.kaggle.com/kslarwtf/avocado-eda/notebook\n",
    "\n",
    "def clean_data(d, dname=None):\n",
    "    # Let's clean duplicates first\n",
    "    temp = d.duplicated().sum()\n",
    "    if temp:\n",
    "        print(F\"{temp} dupllicates found.\\n\")\n",
    "        print(\"*** Removing Duplicates ***\\n\")\n",
    "        d = d.drop_duplicates(ignore_index=True)\n",
    "    \n",
    "    # Let's check if we have any missing values\n",
    "    temp = df.isna().sum().any()\n",
    "    if temp:\n",
    "        print(\"*** There are missing values in the data. Let's remove those ***\\n\")\n",
    "        d = d.dropna()\n",
    "    \n",
    "    # Rename all Columns to lowercase \n",
    "    d.columns = d.columns.str.lower()\n",
    "    \n",
    "    # one column has name too long\n",
    "    old_name = 'prescriptions dispensed by us retailers in that year (millions)'\n",
    "    new_name = 'prescriptions dispensed'\n",
    "    d = d.rename(columns={old_name: new_name})\n",
    "\n",
    "    return d"
   ]
  },
  {
   "cell_type": "code",
   "execution_count": 5,
   "id": "c029d034",
   "metadata": {
    "execution": {
     "iopub.execute_input": "2022-02-03T17:36:54.088549Z",
     "iopub.status.busy": "2022-02-03T17:36:54.087872Z",
     "iopub.status.idle": "2022-02-03T17:36:54.092001Z",
     "shell.execute_reply": "2022-02-03T17:36:54.092549Z"
    },
    "papermill": {
     "duration": 0.02558,
     "end_time": "2022-02-03T17:36:54.092752",
     "exception": false,
     "start_time": "2022-02-03T17:36:54.067172",
     "status": "completed"
    },
    "tags": []
   },
   "outputs": [],
   "source": [
    "# The structure of this function is based on \"Avocado | EDA\" done by \"ks_lar_wtf\"\n",
    "# please refer to the links from the last cell\n",
    "def examine_data(d, dname=None):\n",
    "    print(F\"*** Examining {dname} ***\\n\")\n",
    "    display(d.head())\n",
    "    display(d.info())\n",
    "    display(d.columns)"
   ]
  },
  {
   "cell_type": "code",
   "execution_count": 6,
   "id": "139667a6",
   "metadata": {
    "execution": {
     "iopub.execute_input": "2022-02-03T17:36:54.132994Z",
     "iopub.status.busy": "2022-02-03T17:36:54.132300Z",
     "iopub.status.idle": "2022-02-03T17:36:54.173376Z",
     "shell.execute_reply": "2022-02-03T17:36:54.173876Z"
    },
    "papermill": {
     "duration": 0.06309,
     "end_time": "2022-02-03T17:36:54.174063",
     "exception": false,
     "start_time": "2022-02-03T17:36:54.110973",
     "status": "completed"
    },
    "tags": []
   },
   "outputs": [
    {
     "name": "stdout",
     "output_type": "stream",
     "text": [
      "*** There are missing values in the data. Let's remove those ***\n",
      "\n",
      "*** Examining Opioid Overdose Deaths -- Cleaned ***\n",
      "\n"
     ]
    },
    {
     "data": {
      "text/html": [
       "<div>\n",
       "<style scoped>\n",
       "    .dataframe tbody tr th:only-of-type {\n",
       "        vertical-align: middle;\n",
       "    }\n",
       "\n",
       "    .dataframe tbody tr th {\n",
       "        vertical-align: top;\n",
       "    }\n",
       "\n",
       "    .dataframe thead th {\n",
       "        text-align: right;\n",
       "    }\n",
       "</style>\n",
       "<table border=\"1\" class=\"dataframe\">\n",
       "  <thead>\n",
       "    <tr style=\"text-align: right;\">\n",
       "      <th></th>\n",
       "      <th>state</th>\n",
       "      <th>year</th>\n",
       "      <th>deaths</th>\n",
       "      <th>population</th>\n",
       "      <th>crude rate</th>\n",
       "      <th>crude rate lower 95% confidence interval</th>\n",
       "      <th>crude rate upper 95% confidence interval</th>\n",
       "      <th>prescriptions dispensed</th>\n",
       "    </tr>\n",
       "  </thead>\n",
       "  <tbody>\n",
       "    <tr>\n",
       "      <th>0</th>\n",
       "      <td>Alabama</td>\n",
       "      <td>1999</td>\n",
       "      <td>39.0</td>\n",
       "      <td>4430141</td>\n",
       "      <td>0.9</td>\n",
       "      <td>0.6</td>\n",
       "      <td>1.2</td>\n",
       "      <td>116</td>\n",
       "    </tr>\n",
       "    <tr>\n",
       "      <th>1</th>\n",
       "      <td>Alabama</td>\n",
       "      <td>2000</td>\n",
       "      <td>46.0</td>\n",
       "      <td>4447100</td>\n",
       "      <td>1.0</td>\n",
       "      <td>0.8</td>\n",
       "      <td>1.4</td>\n",
       "      <td>126</td>\n",
       "    </tr>\n",
       "    <tr>\n",
       "      <th>2</th>\n",
       "      <td>Alabama</td>\n",
       "      <td>2001</td>\n",
       "      <td>67.0</td>\n",
       "      <td>4467634</td>\n",
       "      <td>1.5</td>\n",
       "      <td>1.2</td>\n",
       "      <td>1.9</td>\n",
       "      <td>138</td>\n",
       "    </tr>\n",
       "    <tr>\n",
       "      <th>3</th>\n",
       "      <td>Alabama</td>\n",
       "      <td>2002</td>\n",
       "      <td>75.0</td>\n",
       "      <td>4480089</td>\n",
       "      <td>1.7</td>\n",
       "      <td>1.3</td>\n",
       "      <td>2.1</td>\n",
       "      <td>142</td>\n",
       "    </tr>\n",
       "    <tr>\n",
       "      <th>4</th>\n",
       "      <td>Alabama</td>\n",
       "      <td>2003</td>\n",
       "      <td>54.0</td>\n",
       "      <td>4503491</td>\n",
       "      <td>1.2</td>\n",
       "      <td>0.9</td>\n",
       "      <td>1.6</td>\n",
       "      <td>149</td>\n",
       "    </tr>\n",
       "  </tbody>\n",
       "</table>\n",
       "</div>"
      ],
      "text/plain": [
       "     state  year  deaths  population  crude rate  \\\n",
       "0  Alabama  1999    39.0     4430141         0.9   \n",
       "1  Alabama  2000    46.0     4447100         1.0   \n",
       "2  Alabama  2001    67.0     4467634         1.5   \n",
       "3  Alabama  2002    75.0     4480089         1.7   \n",
       "4  Alabama  2003    54.0     4503491         1.2   \n",
       "\n",
       "   crude rate lower 95% confidence interval  \\\n",
       "0                                       0.6   \n",
       "1                                       0.8   \n",
       "2                                       1.2   \n",
       "3                                       1.3   \n",
       "4                                       0.9   \n",
       "\n",
       "   crude rate upper 95% confidence interval  prescriptions dispensed  \n",
       "0                                       1.2                      116  \n",
       "1                                       1.4                      126  \n",
       "2                                       1.9                      138  \n",
       "3                                       2.1                      142  \n",
       "4                                       1.6                      149  "
      ]
     },
     "metadata": {},
     "output_type": "display_data"
    },
    {
     "name": "stdout",
     "output_type": "stream",
     "text": [
      "<class 'pandas.core.frame.DataFrame'>\n",
      "Int64Index: 772 entries, 0 to 815\n",
      "Data columns (total 8 columns):\n",
      " #   Column                                    Non-Null Count  Dtype  \n",
      "---  ------                                    --------------  -----  \n",
      " 0   state                                     772 non-null    object \n",
      " 1   year                                      772 non-null    int64  \n",
      " 2   deaths                                    772 non-null    float64\n",
      " 3   population                                772 non-null    int64  \n",
      " 4   crude rate                                772 non-null    float64\n",
      " 5   crude rate lower 95% confidence interval  772 non-null    float64\n",
      " 6   crude rate upper 95% confidence interval  772 non-null    float64\n",
      " 7   prescriptions dispensed                   772 non-null    int64  \n",
      "dtypes: float64(4), int64(3), object(1)\n",
      "memory usage: 54.3+ KB\n"
     ]
    },
    {
     "data": {
      "text/plain": [
       "None"
      ]
     },
     "metadata": {},
     "output_type": "display_data"
    },
    {
     "data": {
      "text/plain": [
       "Index(['state', 'year', 'deaths', 'population', 'crude rate',\n",
       "       'crude rate lower 95% confidence interval',\n",
       "       'crude rate upper 95% confidence interval', 'prescriptions dispensed'],\n",
       "      dtype='object')"
      ]
     },
     "metadata": {},
     "output_type": "display_data"
    }
   ],
   "source": [
    "df_cleaned = clean_data(df, \"Opioid Overdose Deaths\")\n",
    "examine_data(df_cleaned, \"Opioid Overdose Deaths -- Cleaned\")"
   ]
  },
  {
   "cell_type": "markdown",
   "id": "6f12cd1e",
   "metadata": {
    "papermill": {
     "duration": 0.020154,
     "end_time": "2022-02-03T17:36:54.214823",
     "exception": false,
     "start_time": "2022-02-03T17:36:54.194669",
     "status": "completed"
    },
    "tags": []
   },
   "source": [
    "Now the **Non-Null Count** is same for all the columns, which means we have effectively removed any rows with missing values. Now we can start doing some visualizations to see what's this dataset has. Let's see which state has the highest death rate from opioid overdose  "
   ]
  },
  {
   "cell_type": "code",
   "execution_count": 7,
   "id": "36a40bc6",
   "metadata": {
    "execution": {
     "iopub.execute_input": "2022-02-03T17:36:54.268698Z",
     "iopub.status.busy": "2022-02-03T17:36:54.267951Z",
     "iopub.status.idle": "2022-02-03T17:36:55.378829Z",
     "shell.execute_reply": "2022-02-03T17:36:55.379328Z"
    },
    "papermill": {
     "duration": 1.144342,
     "end_time": "2022-02-03T17:36:55.379546",
     "exception": false,
     "start_time": "2022-02-03T17:36:54.235204",
     "status": "completed"
    },
    "tags": []
   },
   "outputs": [
    {
     "data": {
      "text/plain": [
       "state\n",
       "California              27044.0\n",
       "Florida                 19919.0\n",
       "New York                16156.0\n",
       "Texas                   15050.0\n",
       "Ohio                    13623.0\n",
       "Illinois                13072.0\n",
       "North Carolina          10413.0\n",
       "Massachusetts            9923.0\n",
       "Washington               9528.0\n",
       "Maryland                 9403.0\n",
       "Pennsylvania             9304.0\n",
       "Michigan                 8748.0\n",
       "Tennessee                7467.0\n",
       "Arizona                  7298.0\n",
       "Virginia                 7210.0\n",
       "New Jersey               6961.0\n",
       "Missouri                 6460.0\n",
       "Kentucky                 6283.0\n",
       "Georgia                  6052.0\n",
       "Nevada                   5954.0\n",
       "Oklahoma                 5926.0\n",
       "Wisconsin                5400.0\n",
       "Utah                     5165.0\n",
       "Colorado                 5155.0\n",
       "West Virginia            4982.0\n",
       "Oregon                   4933.0\n",
       "New Mexico               4002.0\n",
       "Indiana                  3758.0\n",
       "Connecticut              3755.0\n",
       "South Carolina           3165.0\n",
       "Minnesota                3158.0\n",
       "Louisiana                2419.0\n",
       "Arkansas                 2178.0\n",
       "Alabama                  2173.0\n",
       "New Hampshire            1859.0\n",
       "Rhode Island             1847.0\n",
       "Kansas                   1794.0\n",
       "Iowa                     1642.0\n",
       "Maine                    1589.0\n",
       "Delaware                 1091.0\n",
       "Mississippi              1048.0\n",
       "Idaho                     971.0\n",
       "Hawaii                    955.0\n",
       "Vermont                   768.0\n",
       "Montana                   752.0\n",
       "District of Columbia      693.0\n",
       "Alaska                    644.0\n",
       "Nebraska                  576.0\n",
       "Wyoming                   359.0\n",
       "South Dakota              316.0\n",
       "North Dakota               66.0\n",
       "Name: deaths, dtype: float64"
      ]
     },
     "metadata": {},
     "output_type": "display_data"
    },
    {
     "data": {
      "image/png": "[encoded data removed]",
      "text/plain": [
       "<Figure size 648x1080 with 1 Axes>"
      ]
     },
     "metadata": {
      "needs_background": "light"
     },
     "output_type": "display_data"
    }
   ],
   "source": [
    "# California has highest death rate from opioid overdose\n",
    "# top 3 states are: California, Florida and New York\n",
    "statewise_deaths = df_cleaned.groupby('state')['deaths'].sum().sort_values(ascending=False)\n",
    "display(statewise_deaths)\n",
    "fig, ax = plt.subplots(figsize=(9,15))\n",
    "ax.barh(statewise_deaths.index, statewise_deaths)\n",
    "ax.invert_yaxis()\n"
   ]
  },
  {
   "cell_type": "markdown",
   "id": "832d11f5",
   "metadata": {
    "papermill": {
     "duration": 0.022298,
     "end_time": "2022-02-03T17:36:55.424964",
     "exception": false,
     "start_time": "2022-02-03T17:36:55.402666",
     "status": "completed"
    },
    "tags": []
   },
   "source": [
    "Let's see the sale of the opioids per state if that matches the state with the highest overdose death rates "
   ]
  },
  {
   "cell_type": "code",
   "execution_count": 8,
   "id": "d98e74f1",
   "metadata": {
    "execution": {
     "iopub.execute_input": "2022-02-03T17:36:55.473642Z",
     "iopub.status.busy": "2022-02-03T17:36:55.472926Z",
     "iopub.status.idle": "2022-02-03T17:36:55.481571Z",
     "shell.execute_reply": "2022-02-03T17:36:55.482019Z"
    },
    "papermill": {
     "duration": 0.034701,
     "end_time": "2022-02-03T17:36:55.482217",
     "exception": false,
     "start_time": "2022-02-03T17:36:55.447516",
     "status": "completed"
    },
    "tags": []
   },
   "outputs": [
    {
     "data": {
      "text/plain": [
       "state\n",
       "Alabama                 2794\n",
       "Michigan                2794\n",
       "Nevada                  2794\n",
       "New Hampshire           2794\n",
       "New Jersey              2794\n",
       "New Mexico              2794\n",
       "New York                2794\n",
       "North Carolina          2794\n",
       "Ohio                    2794\n",
       "Oklahoma                2794\n",
       "Oregon                  2794\n",
       "Pennsylvania            2794\n",
       "Rhode Island            2794\n",
       "South Carolina          2794\n",
       "Tennessee               2794\n",
       "Texas                   2794\n",
       "Utah                    2794\n",
       "Virginia                2794\n",
       "Washington              2794\n",
       "West Virginia           2794\n",
       "Wisconsin               2794\n",
       "Minnesota               2794\n",
       "Missouri                2794\n",
       "Massachusetts           2794\n",
       "Indiana                 2794\n",
       "Arizona                 2794\n",
       "Arkansas                2794\n",
       "California              2794\n",
       "Colorado                2794\n",
       "Connecticut             2794\n",
       "Delaware                2794\n",
       "Florida                 2794\n",
       "Georgia                 2794\n",
       "Hawaii                  2794\n",
       "Illinois                2794\n",
       "Idaho                   2794\n",
       "Kansas                  2794\n",
       "Kentucky                2794\n",
       "Louisiana               2794\n",
       "Maine                   2794\n",
       "Maryland                2794\n",
       "Vermont                 2678\n",
       "District of Columbia    2592\n",
       "Mississippi             2552\n",
       "Iowa                    2552\n",
       "Montana                 2552\n",
       "Nebraska                2403\n",
       "South Dakota            2123\n",
       "Alaska                  1863\n",
       "Wyoming                 1631\n",
       "North Dakota             392\n",
       "Name: prescriptions dispensed, dtype: int64"
      ]
     },
     "execution_count": 8,
     "metadata": {},
     "output_type": "execute_result"
    }
   ],
   "source": [
    "df_cleaned.groupby('state')['prescriptions dispensed'].sum().sort_values(ascending=False)"
   ]
  },
  {
   "cell_type": "markdown",
   "id": "655bc6e9",
   "metadata": {
    "papermill": {
     "duration": 0.022786,
     "end_time": "2022-02-03T17:36:55.528138",
     "exception": false,
     "start_time": "2022-02-03T17:36:55.505352",
     "status": "completed"
    },
    "tags": []
   },
   "source": [
    "Our analysis is only as good as our data. In this specific case looks like our dataset does not have complete information regarding the prescription dispensed. It's not possible that 90% of the states are selling exactly the same number of opioids. Think about it: each state has a different population and hence number of prescriptions can't be exactly same. Second reason is exact same number of prescriptions can't cause 50 or 90% variation in overdoses across 52 states."
   ]
  },
  {
   "cell_type": "code",
   "execution_count": 9,
   "id": "a8ab3040",
   "metadata": {
    "execution": {
     "iopub.execute_input": "2022-02-03T17:36:55.579589Z",
     "iopub.status.busy": "2022-02-03T17:36:55.578909Z",
     "iopub.status.idle": "2022-02-03T17:36:55.973502Z",
     "shell.execute_reply": "2022-02-03T17:36:55.974048Z"
    },
    "papermill": {
     "duration": 0.421288,
     "end_time": "2022-02-03T17:36:55.974249",
     "exception": false,
     "start_time": "2022-02-03T17:36:55.552961",
     "status": "completed"
    },
    "tags": []
   },
   "outputs": [
    {
     "data": {
      "text/plain": [
       "year\n",
       "2014    29650.0\n",
       "2013    26009.0\n",
       "2012    24098.0\n",
       "2011    23747.0\n",
       "2010    22039.0\n",
       "2009    21280.0\n",
       "2008    20343.0\n",
       "2007    19253.0\n",
       "2006    18443.0\n",
       "2005    15713.0\n",
       "2004    14546.0\n",
       "2003    13651.0\n",
       "2002    12612.0\n",
       "2001    10096.0\n",
       "2000     8964.0\n",
       "1999     8563.0\n",
       "Name: deaths, dtype: float64"
      ]
     },
     "metadata": {},
     "output_type": "display_data"
    },
    {
     "data": {
      "text/plain": [
       "<BarContainer object of 16 artists>"
      ]
     },
     "execution_count": 9,
     "metadata": {},
     "output_type": "execute_result"
    },
    {
     "data": {
      "image/png": "[encoded data removed]",
      "text/plain": [
       "<Figure size 1080x576 with 2 Axes>"
      ]
     },
     "metadata": {
      "needs_background": "light"
     },
     "output_type": "display_data"
    }
   ],
   "source": [
    "yearly_deaths = df_cleaned.groupby('year')['deaths'].sum().sort_values(ascending=False)\n",
    "display(yearly_deaths)\n",
    "\n",
    "fig, ax = plt.subplots(1,2, figsize=(15,8))\n",
    "ax[0].plot(yearly_deaths.index, yearly_deaths)\n",
    "ax[1].bar(yearly_deaths.index, yearly_deaths)"
   ]
  },
  {
   "cell_type": "markdown",
   "id": "d030dfad",
   "metadata": {
    "papermill": {
     "duration": 0.024658,
     "end_time": "2022-02-03T17:36:56.024060",
     "exception": false,
     "start_time": "2022-02-03T17:36:55.999402",
     "status": "completed"
    },
    "tags": []
   },
   "source": [
    "Year 2014 saw the largest number of deaths due to opioids overdose. In fact, death rate due to opioids overdose is increasing year by year. In 16 years, death rates have almost quadrupled. This is an alarming situation for a country. It should raise all the red flags within any organization working in the public interest."
   ]
  },
  {
   "cell_type": "code",
   "execution_count": 10,
   "id": "30ff7736",
   "metadata": {
    "execution": {
     "iopub.execute_input": "2022-02-03T17:36:56.076872Z",
     "iopub.status.busy": "2022-02-03T17:36:56.076227Z",
     "iopub.status.idle": "2022-02-03T17:36:56.487009Z",
     "shell.execute_reply": "2022-02-03T17:36:56.487514Z"
    },
    "papermill": {
     "duration": 0.439011,
     "end_time": "2022-02-03T17:36:56.487711",
     "exception": false,
     "start_time": "2022-02-03T17:36:56.048700",
     "status": "completed"
    },
    "tags": []
   },
   "outputs": [
    {
     "data": {
      "text/plain": [
       "year\n",
       "1999    268200721\n",
       "2000    271146640\n",
       "2001    282443550\n",
       "2002    285084651\n",
       "2003    285814877\n",
       "2004    290992201\n",
       "2005    293689407\n",
       "2006    297207823\n",
       "2007    299898085\n",
       "2008    304093966\n",
       "2009    305514333\n",
       "2010    308072947\n",
       "2011    310907985\n",
       "2012    313214412\n",
       "2013    315405446\n",
       "2014    318857056\n",
       "Name: population, dtype: int64"
      ]
     },
     "metadata": {},
     "output_type": "display_data"
    },
    {
     "data": {
      "text/plain": [
       "<BarContainer object of 16 artists>"
      ]
     },
     "execution_count": 10,
     "metadata": {},
     "output_type": "execute_result"
    },
    {
     "data": {
      "image/png": "[encoded data removed]",
      "text/plain": [
       "<Figure size 1296x576 with 2 Axes>"
      ]
     },
     "metadata": {
      "needs_background": "light"
     },
     "output_type": "display_data"
    }
   ],
   "source": [
    "yearly_population = df_cleaned.groupby('year')['population'].sum()\n",
    "display(yearly_population)\n",
    "\n",
    "fig, ax = plt.subplots(1,2, figsize=(18,8))\n",
    "ax[0].plot(yearly_population.index, yearly_population)\n",
    "ax[1].bar(yearly_population.index, yearly_population)"
   ]
  },
  {
   "cell_type": "markdown",
   "id": "3400e5f2",
   "metadata": {
    "papermill": {
     "duration": 0.026502,
     "end_time": "2022-02-03T17:36:56.541050",
     "exception": false,
     "start_time": "2022-02-03T17:36:56.514548",
     "status": "completed"
    },
    "tags": []
   },
   "source": [
    "If you just look at the line chart, it looks like an explosive growth in population. But then if you draw a bar chart, you see the difference. The line chart gives us a a wrong overview of the population increase because the y-axis scale is different. In fact, y-axis scale of line chart is quite misleading (though both are using the default scale whatever matplotlib provides)\n",
    "\n",
    "To have clean comparison, let's use similar (and not misleading) values for the y-axis for both kinds of charts. Since y-axis values range from **2.5e8 - 3.2e8**. We can use a range from **2e8 - 4e8**\n",
    "\n",
    "Now you will see that rise in population is there but it is not as explosive as line chart made us believe the first time. We will also reduce the height of the charts to make it look more appealing"
   ]
  },
  {
   "cell_type": "code",
   "execution_count": 11,
   "id": "0b8540b5",
   "metadata": {
    "execution": {
     "iopub.execute_input": "2022-02-03T17:36:56.598144Z",
     "iopub.status.busy": "2022-02-03T17:36:56.597544Z",
     "iopub.status.idle": "2022-02-03T17:36:56.993669Z",
     "shell.execute_reply": "2022-02-03T17:36:56.993083Z"
    },
    "papermill": {
     "duration": 0.42576,
     "end_time": "2022-02-03T17:36:56.993833",
     "exception": false,
     "start_time": "2022-02-03T17:36:56.568073",
     "status": "completed"
    },
    "tags": []
   },
   "outputs": [
    {
     "data": {
      "text/plain": [
       "(200000000.0, 400000000.0)"
      ]
     },
     "execution_count": 11,
     "metadata": {},
     "output_type": "execute_result"
    },
    {
     "data": {
      "image/png": "[encoded data removed]",
      "text/plain": [
       "<Figure size 1296x432 with 2 Axes>"
      ]
     },
     "metadata": {
      "needs_background": "light"
     },
     "output_type": "display_data"
    }
   ],
   "source": [
    "fig3, ax3 = plt.subplots(1,2, figsize=(18,6), sharey=True)\n",
    "ax3[0].plot(yearly_population.index, yearly_population)\n",
    "ax3[0].set_xlabel('Years')\n",
    "ax3[0].set_ylabel('Population Opioids Use')\n",
    "\n",
    "ax3[1].bar(yearly_population.index, yearly_population)\n",
    "ax3[1].set_xlabel('Years')\n",
    "ax3[1].set_ylabel('Population Opioids Use')\n",
    "\n",
    "plt.ylim(2e8, 4e8)\n",
    "\n"
   ]
  },
  {
   "cell_type": "markdown",
   "id": "97350308",
   "metadata": {
    "papermill": {
     "duration": 0.028723,
     "end_time": "2022-02-03T17:36:57.051855",
     "exception": false,
     "start_time": "2022-02-03T17:36:57.023132",
     "status": "completed"
    },
    "tags": []
   },
   "source": [
    "## CRUDE RATE & CONFIDENCE INTERVAL\n",
    "\n",
    "Cruade rate is the total number of events occurring in an entire population over a period of time, without reference to any of the individuals or subgroups within the population. \n",
    "\n",
    "\n",
    "We indicate a confidence interval by its endpoints; for example, the 90% confidence interval for the number of people in poverty in the United States in 1995 is \"35,534,124 to 37,315,094.\" If we were to repeatedly make new estimates using exactly the same procedure (by drawing a new sample, conducting new interviews etc), 90% of the time the estimate will fall within the range given above. \n",
    "\n",
    "\n",
    "SOURCE: [The Free Dictionary](https://medical-dictionary.thefreedictionary.com/crude+rate), [United States Census Bureau](https://www.census.gov/programs-surveys/saipe/guidance/confidence-intervals.html)\n",
    "\n",
    "You can check out a small example of how to calculate Crude Rate at [Boston University School of Public Health](https://sphweb.bumc.bu.edu/otlt/MPH-Modules/EP/EP713_StandardizedRates/EP713_StandardizedRates2.html) by *Wayne W. LaMorte*"
   ]
  },
  {
   "cell_type": "code",
   "execution_count": 12,
   "id": "744e47db",
   "metadata": {
    "execution": {
     "iopub.execute_input": "2022-02-03T17:36:57.115864Z",
     "iopub.status.busy": "2022-02-03T17:36:57.115167Z",
     "iopub.status.idle": "2022-02-03T17:36:57.125022Z",
     "shell.execute_reply": "2022-02-03T17:36:57.124493Z"
    },
    "papermill": {
     "duration": 0.044561,
     "end_time": "2022-02-03T17:36:57.125170",
     "exception": false,
     "start_time": "2022-02-03T17:36:57.080609",
     "status": "completed"
    },
    "tags": []
   },
   "outputs": [
    {
     "data": {
      "text/plain": [
       "state\n",
       "West Virginia           16.906250\n",
       "Nevada                  14.743750\n",
       "New Mexico              12.625000\n",
       "Utah                    12.325000\n",
       "Rhode Island            10.906250\n",
       "Maryland                10.400000\n",
       "Oklahoma                10.050000\n",
       "Massachusetts            9.531250\n",
       "Washington               9.181250\n",
       "Alaska                   9.140000\n",
       "Kentucky                 9.137500\n",
       "New Hampshire            8.881250\n",
       "Oregon                   8.293750\n",
       "Vermont                  8.240000\n",
       "Wyoming                  7.937500\n",
       "District of Columbia     7.786667\n",
       "Delaware                 7.768750\n",
       "Maine                    7.531250\n",
       "Arizona                  7.512500\n",
       "Tennessee                7.468750\n",
       "Ohio                     7.400000\n",
       "North Carolina           7.081250\n",
       "Florida                  6.843750\n",
       "Missouri                 6.831250\n",
       "Connecticut              6.650000\n",
       "Colorado                 6.631250\n",
       "Illinois                 6.425000\n",
       "Wisconsin                5.993750\n",
       "Virginia                 5.793750\n",
       "Montana                  5.528571\n",
       "Michigan                 5.500000\n",
       "New York                 5.218750\n",
       "New Jersey               5.006250\n",
       "North Dakota             4.750000\n",
       "Arkansas                 4.743750\n",
       "California               4.643750\n",
       "Pennsylvania             4.618750\n",
       "Hawaii                   4.537500\n",
       "South Carolina           4.375000\n",
       "Idaho                    4.068750\n",
       "Georgia                  4.025000\n",
       "Kansas                   3.993750\n",
       "Texas                    3.906250\n",
       "Iowa                     3.871429\n",
       "Minnesota                3.762500\n",
       "Indiana                  3.650000\n",
       "South Dakota             3.536364\n",
       "Louisiana                3.337500\n",
       "Alabama                  2.875000\n",
       "Mississippi              2.528571\n",
       "Nebraska                 2.438462\n",
       "Name: crude rate, dtype: float64"
      ]
     },
     "execution_count": 12,
     "metadata": {},
     "output_type": "execute_result"
    }
   ],
   "source": [
    "# Let's check the crude rate by state\n",
    "df_cleaned.groupby('state')['crude rate'].mean().sort_values(ascending=False)"
   ]
  },
  {
   "cell_type": "markdown",
   "id": "0038d30d",
   "metadata": {
    "papermill": {
     "duration": 0.029792,
     "end_time": "2022-02-03T17:36:57.183733",
     "exception": false,
     "start_time": "2022-02-03T17:36:57.153941",
     "status": "completed"
    },
    "tags": []
   },
   "source": [
    "What we have done is taken the *mean* of all the crude rates for a particular state. We can see that even though California has the highest number of opioid overdose deaths, its crude rate is only 25% of the maximum value. New York and Florida are similar too in that aspect. I don't know what more I can make out of it for I have never studied Statistics. "
   ]
  },
  {
   "cell_type": "markdown",
   "id": "ff54e0b1",
   "metadata": {
    "papermill": {
     "duration": 0.028436,
     "end_time": "2022-02-03T17:36:57.241336",
     "exception": false,
     "start_time": "2022-02-03T17:36:57.212900",
     "status": "completed"
    },
    "tags": []
   },
   "source": [
    "# More To Come\n",
    "\n",
    "## Once I learn more about how to analyze datasets and more visualization techniques, I will come back here and update this notebook."
   ]
  },
  {
   "cell_type": "code",
   "execution_count": null,
   "id": "6cb35c3e",
   "metadata": {
    "papermill": {
     "duration": 0.028684,
     "end_time": "2022-02-03T17:36:57.298983",
     "exception": false,
     "start_time": "2022-02-03T17:36:57.270299",
     "status": "completed"
    },
    "tags": []
   },
   "outputs": [],
   "source": []
  },
  {
   "cell_type": "markdown",
   "id": "cd7fbe3a",
   "metadata": {
    "papermill": {
     "duration": 0.028766,
     "end_time": "2022-02-03T17:36:57.356856",
     "exception": false,
     "start_time": "2022-02-03T17:36:57.328090",
     "status": "completed"
    },
    "tags": []
   },
   "source": []
  },
  {
   "cell_type": "markdown",
   "id": "826b1e73",
   "metadata": {
    "papermill": {
     "duration": 0.029091,
     "end_time": "2022-02-03T17:36:57.415166",
     "exception": false,
     "start_time": "2022-02-03T17:36:57.386075",
     "status": "completed"
    },
    "tags": []
   },
   "source": []
  }
 ],
 "metadata": {
  "kernelspec": {
   "display_name": "Python 3 (ipykernel)",
   "language": "python",
   "name": "python3"
  },
  "language_info": {
   "codemirror_mode": {
    "name": "ipython",
    "version": 3
   },
   "file_extension": ".py",
   "mimetype": "text/x-python",
   "name": "python",
   "nbconvert_exporter": "python",
   "pygments_lexer": "ipython3",
   "version": "3.10.2"
  },
  "papermill": {
   "default_parameters": {},
   "duration": 14.511337,
   "end_time": "2022-02-03T17:36:58.254912",
   "environment_variables": {},
   "exception": null,
   "input_path": "__notebook__.ipynb",
   "output_path": "__notebook__.ipynb",
   "parameters": {},
   "start_time": "2022-02-03T17:36:43.743575",
   "version": "2.3.3"
  }
 },
 "nbformat": 4,
 "nbformat_minor": 5
}
